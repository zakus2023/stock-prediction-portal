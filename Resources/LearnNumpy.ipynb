{
 "cells": [
  {
   "cell_type": "code",
   "execution_count": 3,
   "id": "3412fc0d-f00e-4fe6-95a4-3c2cc398d169",
   "metadata": {},
   "outputs": [],
   "source": [
    "import numpy as np"
   ]
  },
  {
   "cell_type": "code",
   "execution_count": 4,
   "id": "fa1e444b-f985-469f-9b31-41945734f535",
   "metadata": {},
   "outputs": [
    {
     "data": {
      "text/plain": [
       "'1.26.4'"
      ]
     },
     "execution_count": 4,
     "metadata": {},
     "output_type": "execute_result"
    }
   ],
   "source": [
    "np.__version__"
   ]
  },
  {
   "cell_type": "markdown",
   "id": "263c7e61-142b-4f1e-8673-889087027852",
   "metadata": {},
   "source": [
    "## Create and Read"
   ]
  },
  {
   "cell_type": "markdown",
   "id": "1d7b8bdd-97d6-4b11-aba4-2691b6c56adf",
   "metadata": {},
   "source": [
    "### 1D array"
   ]
  },
  {
   "cell_type": "code",
   "execution_count": 7,
   "id": "ee484035-2a10-45f6-9dd2-ae90582e73f9",
   "metadata": {},
   "outputs": [
    {
     "data": {
      "text/plain": [
       "array([1, 2, 3, 4, 5, 6])"
      ]
     },
     "execution_count": 7,
     "metadata": {},
     "output_type": "execute_result"
    }
   ],
   "source": [
    "arr1 = np.array([1,2,3,4,5,6])\n",
    "arr1"
   ]
  },
  {
   "cell_type": "code",
   "execution_count": 9,
   "id": "169fd0c0-f25b-4a4f-a31c-8b0dd626031d",
   "metadata": {},
   "outputs": [
    {
     "data": {
      "text/plain": [
       "numpy.ndarray"
      ]
     },
     "execution_count": 9,
     "metadata": {},
     "output_type": "execute_result"
    }
   ],
   "source": [
    "type(arr1)"
   ]
  },
  {
   "cell_type": "code",
   "execution_count": 10,
   "id": "a7dbcfe7-cf71-4e57-838d-b6014d8797a4",
   "metadata": {},
   "outputs": [
    {
     "data": {
      "text/plain": [
       "(6,)"
      ]
     },
     "execution_count": 10,
     "metadata": {},
     "output_type": "execute_result"
    }
   ],
   "source": [
    "arr1.shape"
   ]
  },
  {
   "cell_type": "code",
   "execution_count": 11,
   "id": "b1bc72a5-b9bc-4ee3-9f00-16beac5cd056",
   "metadata": {},
   "outputs": [
    {
     "data": {
      "text/plain": [
       "dtype('int32')"
      ]
     },
     "execution_count": 11,
     "metadata": {},
     "output_type": "execute_result"
    }
   ],
   "source": [
    "arr1.dtype"
   ]
  },
  {
   "cell_type": "code",
   "execution_count": 13,
   "id": "ebbf2473-81b8-4f4f-ad35-dddec154d295",
   "metadata": {},
   "outputs": [
    {
     "data": {
      "text/plain": [
       "1"
      ]
     },
     "execution_count": 13,
     "metadata": {},
     "output_type": "execute_result"
    }
   ],
   "source": [
    "arr1.ndim"
   ]
  },
  {
   "cell_type": "code",
   "execution_count": 14,
   "id": "95b9b5e5-78be-4bc6-aca1-121209a3a47c",
   "metadata": {},
   "outputs": [
    {
     "data": {
      "text/plain": [
       "6"
      ]
     },
     "execution_count": 14,
     "metadata": {},
     "output_type": "execute_result"
    }
   ],
   "source": [
    "arr1.size"
   ]
  },
  {
   "cell_type": "markdown",
   "id": "bce5d5f5-25b5-410f-89bf-76a2c88af9d8",
   "metadata": {},
   "source": [
    "### 2D array"
   ]
  },
  {
   "cell_type": "code",
   "execution_count": 15,
   "id": "347898b3-a4d7-4abb-8296-0628d97b75ff",
   "metadata": {},
   "outputs": [
    {
     "data": {
      "text/plain": [
       "array([[1, 4, 5],\n",
       "       [6, 7, 8]])"
      ]
     },
     "execution_count": 15,
     "metadata": {},
     "output_type": "execute_result"
    }
   ],
   "source": [
    "arr2 = np.array([[1,4,5],[6,7,8]])\n",
    "arr2"
   ]
  },
  {
   "cell_type": "code",
   "execution_count": 16,
   "id": "4bd66f9d-f35c-45f9-b0e3-64080e1c1ffb",
   "metadata": {},
   "outputs": [
    {
     "data": {
      "text/plain": [
       "2"
      ]
     },
     "execution_count": 16,
     "metadata": {},
     "output_type": "execute_result"
    }
   ],
   "source": [
    "arr2.ndim"
   ]
  },
  {
   "cell_type": "code",
   "execution_count": 17,
   "id": "d631e719-549b-4423-990d-67a44576cae0",
   "metadata": {},
   "outputs": [
    {
     "data": {
      "text/plain": [
       "(2, 3)"
      ]
     },
     "execution_count": 17,
     "metadata": {},
     "output_type": "execute_result"
    }
   ],
   "source": [
    "arr2.shape"
   ]
  },
  {
   "cell_type": "markdown",
   "id": "65c1433f-ca1d-495c-abd6-d8c725bc3090",
   "metadata": {},
   "source": [
    "### 3D array"
   ]
  },
  {
   "cell_type": "code",
   "execution_count": 24,
   "id": "b9c722bc-700d-4a9a-ba3f-a8b2186285c3",
   "metadata": {},
   "outputs": [
    {
     "data": {
      "text/plain": [
       "array([[[3, 4, 6],\n",
       "        [7, 9, 0]],\n",
       "\n",
       "       [[5, 3, 6],\n",
       "        [4, 7, 8]],\n",
       "\n",
       "       [[5, 6, 7],\n",
       "        [6, 7, 8]]])"
      ]
     },
     "execution_count": 24,
     "metadata": {},
     "output_type": "execute_result"
    }
   ],
   "source": [
    "arr3 = np.array([[[3,4,6],[7,9,0]], [[5,3,6],[4,7,8]],[[5,6,7],[6,7,8]]])\n",
    "arr3"
   ]
  },
  {
   "cell_type": "markdown",
   "id": "77b1c51a-4c4c-4871-89b3-3bfb27c5dd56",
   "metadata": {},
   "source": [
    "## Accessing the array"
   ]
  },
  {
   "cell_type": "code",
   "execution_count": 36,
   "id": "4bdebb61-e2b4-4425-9795-bc423c741349",
   "metadata": {},
   "outputs": [
    {
     "data": {
      "text/plain": [
       "array([[3, 4, 6],\n",
       "       [7, 9, 0]])"
      ]
     },
     "execution_count": 36,
     "metadata": {},
     "output_type": "execute_result"
    }
   ],
   "source": [
    "arr3[0]"
   ]
  },
  {
   "cell_type": "code",
   "execution_count": 37,
   "id": "d44d053f-c02f-426e-a3c6-b23647e95413",
   "metadata": {},
   "outputs": [
    {
     "data": {
      "text/plain": [
       "array([3, 4, 6])"
      ]
     },
     "execution_count": 37,
     "metadata": {},
     "output_type": "execute_result"
    }
   ],
   "source": [
    "arr3[0][0]"
   ]
  },
  {
   "cell_type": "code",
   "execution_count": 38,
   "id": "49f45adf-7c79-4e17-a791-6308b7394188",
   "metadata": {},
   "outputs": [
    {
     "data": {
      "text/plain": [
       "3"
      ]
     },
     "execution_count": 38,
     "metadata": {},
     "output_type": "execute_result"
    }
   ],
   "source": [
    "arr3[0][0][0]"
   ]
  },
  {
   "cell_type": "code",
   "execution_count": 40,
   "id": "3d72ad2f-7a62-4323-aa9a-61d14f30d805",
   "metadata": {},
   "outputs": [
    {
     "data": {
      "text/plain": [
       "array([[[3, 4, 6],\n",
       "        [7, 9, 0]],\n",
       "\n",
       "       [[5, 3, 6],\n",
       "        [4, 7, 8]]])"
      ]
     },
     "execution_count": 40,
     "metadata": {},
     "output_type": "execute_result"
    }
   ],
   "source": [
    "arr3[0:2]"
   ]
  },
  {
   "cell_type": "code",
   "execution_count": 41,
   "id": "4f68fb38-c013-41dd-81c0-e2676da77257",
   "metadata": {},
   "outputs": [
    {
     "data": {
      "text/plain": [
       "5"
      ]
     },
     "execution_count": 41,
     "metadata": {},
     "output_type": "execute_result"
    }
   ],
   "source": [
    "arr3[1][0][0]"
   ]
  },
  {
   "cell_type": "code",
   "execution_count": 26,
   "id": "190c82d6-078d-4ff8-9aae-3b7bbcbc91ed",
   "metadata": {},
   "outputs": [
    {
     "data": {
      "text/plain": [
       "3"
      ]
     },
     "execution_count": 26,
     "metadata": {},
     "output_type": "execute_result"
    }
   ],
   "source": [
    "arr3.ndim"
   ]
  },
  {
   "cell_type": "code",
   "execution_count": 25,
   "id": "781ac6e0-368e-4c31-a0a0-8ad1fa9b7915",
   "metadata": {},
   "outputs": [
    {
     "data": {
      "text/plain": [
       "(3, 2, 3)"
      ]
     },
     "execution_count": 25,
     "metadata": {},
     "output_type": "execute_result"
    }
   ],
   "source": [
    "arr3.shape"
   ]
  },
  {
   "cell_type": "markdown",
   "id": "41440f01-904d-414f-b067-145c7708a8ce",
   "metadata": {},
   "source": [
    "#### 3 layeers, each layer has  2 rows, 3 coloumns in each layer"
   ]
  },
  {
   "cell_type": "markdown",
   "id": "98393f6e-6dc8-4c4b-a7a5-4b2cf053dc3a",
   "metadata": {},
   "source": [
    "## Create Random array"
   ]
  },
  {
   "cell_type": "code",
   "execution_count": 28,
   "id": "8039981e-d0b8-4b1c-a7a3-96faf435f7e2",
   "metadata": {},
   "outputs": [
    {
     "data": {
      "text/plain": [
       "array([[[0.11308376, 0.13184175, 0.56238344],\n",
       "        [0.54619959, 0.85017786, 0.95031553]],\n",
       "\n",
       "       [[0.44690489, 0.57132132, 0.06805441],\n",
       "        [0.02467934, 0.04855098, 0.05007296]],\n",
       "\n",
       "       [[0.17798274, 0.55716312, 0.18715774],\n",
       "        [0.0348563 , 0.71968858, 0.81595968]]])"
      ]
     },
     "execution_count": 28,
     "metadata": {},
     "output_type": "execute_result"
    }
   ],
   "source": [
    "randomArr = np.random.rand(3,2,3)\n",
    "randomArr"
   ]
  },
  {
   "cell_type": "raw",
   "id": "40b548b3-157e-4f09-9416-ac99933d0a10",
   "metadata": {},
   "source": [
    "randomArr.dtype"
   ]
  },
  {
   "cell_type": "code",
   "execution_count": 33,
   "id": "31c420b0-afd4-489e-8286-88bc29e237d4",
   "metadata": {},
   "outputs": [
    {
     "data": {
      "text/plain": [
       "array([[[0., 0., 0.],\n",
       "        [0., 0., 0.]],\n",
       "\n",
       "       [[0., 0., 0.],\n",
       "        [0., 0., 0.]],\n",
       "\n",
       "       [[0., 0., 0.],\n",
       "        [0., 0., 0.]]])"
      ]
     },
     "execution_count": 33,
     "metadata": {},
     "output_type": "execute_result"
    }
   ],
   "source": [
    "zeroes = np.zeros((3,2,3))\n",
    "zeroes"
   ]
  },
  {
   "cell_type": "markdown",
   "id": "cb523dc1-814c-4986-8200-98bea1d9afc4",
   "metadata": {},
   "source": [
    "#### Fill the zeoroes with any number"
   ]
  },
  {
   "cell_type": "code",
   "execution_count": 34,
   "id": "a8832261-cae3-4081-b7f6-1e40797ca1ad",
   "metadata": {},
   "outputs": [
    {
     "data": {
      "text/plain": [
       "array([[[9, 9, 9],\n",
       "        [9, 9, 9]],\n",
       "\n",
       "       [[9, 9, 9],\n",
       "        [9, 9, 9]],\n",
       "\n",
       "       [[9, 9, 9],\n",
       "        [9, 9, 9]]])"
      ]
     },
     "execution_count": 34,
     "metadata": {},
     "output_type": "execute_result"
    }
   ],
   "source": [
    "full = np.full((3,2,3),9)\n",
    "full"
   ]
  },
  {
   "cell_type": "markdown",
   "id": "47c373ef-c687-41a6-ab2d-b6100c4d9c85",
   "metadata": {},
   "source": [
    "##### update the value of a single item"
   ]
  },
  {
   "cell_type": "code",
   "execution_count": 52,
   "id": "ea14f1e5-3d14-4d12-9a3f-f261dfdd9d44",
   "metadata": {},
   "outputs": [],
   "source": [
    "zeroes[0,1,2]=100"
   ]
  },
  {
   "cell_type": "code",
   "execution_count": 53,
   "id": "1ad272cb-d1ec-4d64-8576-07c60fe236f4",
   "metadata": {},
   "outputs": [
    {
     "data": {
      "text/plain": [
       "array([[[  0.,   0.,   0.],\n",
       "        [  0.,   0., 100.]],\n",
       "\n",
       "       [[  0.,   0.,   0.],\n",
       "        [  0.,   0.,   0.]],\n",
       "\n",
       "       [[  0.,   0.,   0.],\n",
       "        [  0.,   0.,   0.]]])"
      ]
     },
     "execution_count": 53,
     "metadata": {},
     "output_type": "execute_result"
    }
   ],
   "source": [
    "zeroes"
   ]
  },
  {
   "cell_type": "code",
   "execution_count": 35,
   "id": "f546d93f-0e1f-46e7-831c-584886a7f40e",
   "metadata": {},
   "outputs": [
    {
     "data": {
      "text/plain": [
       "array([[1., 1.],\n",
       "       [1., 1.],\n",
       "       [1., 1.]])"
      ]
     },
     "execution_count": 35,
     "metadata": {},
     "output_type": "execute_result"
    }
   ],
   "source": [
    "ones = np.ones((3,2))\n",
    "ones"
   ]
  },
  {
   "cell_type": "markdown",
   "id": "d9df32ea-0e93-4090-9e41-2b7512eaba92",
   "metadata": {},
   "source": [
    "## basic Maths operations"
   ]
  },
  {
   "cell_type": "code",
   "execution_count": 44,
   "id": "0deb611a-b737-43f0-8d5f-aec1e6558fd9",
   "metadata": {},
   "outputs": [
    {
     "data": {
      "text/plain": [
       "array([[[0.9157898 , 0.18636138],\n",
       "        [0.95354881, 0.26138318],\n",
       "        [0.01103062, 0.41003444]],\n",
       "\n",
       "       [[0.81541317, 0.94977737],\n",
       "        [0.59189684, 0.90416463],\n",
       "        [0.73446958, 0.91477232]]])"
      ]
     },
     "execution_count": 44,
     "metadata": {},
     "output_type": "execute_result"
    }
   ],
   "source": [
    "a1 = np.random.rand(2,3,2)\n",
    "a1"
   ]
  },
  {
   "cell_type": "code",
   "execution_count": 45,
   "id": "d1125ed4-a4e6-4fa0-b19b-69ec067346e5",
   "metadata": {},
   "outputs": [
    {
     "data": {
      "text/plain": [
       "array([[[0.05965798, 0.32694381],\n",
       "        [0.36090496, 0.7409633 ],\n",
       "        [0.98322394, 0.16248604]],\n",
       "\n",
       "       [[0.56001093, 0.42343114],\n",
       "        [0.8054208 , 0.23266327],\n",
       "        [0.38271634, 0.89841775]]])"
      ]
     },
     "execution_count": 45,
     "metadata": {},
     "output_type": "execute_result"
    }
   ],
   "source": [
    "a2 = np.random.rand(2,3,2)\n",
    "a2"
   ]
  },
  {
   "cell_type": "code",
   "execution_count": 46,
   "id": "75f115eb-ba79-4cee-990e-89252dc57a02",
   "metadata": {},
   "outputs": [
    {
     "data": {
      "text/plain": [
       "array([[[0.97544778, 0.51330519],\n",
       "        [1.31445377, 1.00234648],\n",
       "        [0.99425456, 0.57252047]],\n",
       "\n",
       "       [[1.37542411, 1.3732085 ],\n",
       "        [1.39731763, 1.1368279 ],\n",
       "        [1.11718592, 1.81319007]]])"
      ]
     },
     "execution_count": 46,
     "metadata": {},
     "output_type": "execute_result"
    }
   ],
   "source": [
    "np.add(a1,a2)"
   ]
  },
  {
   "cell_type": "code",
   "execution_count": 47,
   "id": "8ff35eea-e2d4-4706-b98d-aade4f94ed24",
   "metadata": {},
   "outputs": [
    {
     "data": {
      "text/plain": [
       "array([[[0.05463417, 0.0609297 ],\n",
       "        [0.34414049, 0.19367534],\n",
       "        [0.01084557, 0.06662487]],\n",
       "\n",
       "       [[0.45664029, 0.40216531],\n",
       "        [0.47672602, 0.2103659 ],\n",
       "        [0.28109351, 0.82184769]]])"
      ]
     },
     "execution_count": 47,
     "metadata": {},
     "output_type": "execute_result"
    }
   ],
   "source": [
    "np.multiply(a1,a2)"
   ]
  },
  {
   "cell_type": "code",
   "execution_count": 48,
   "id": "c98e77a8-a419-4b3b-9767-b14f8a122a58",
   "metadata": {},
   "outputs": [
    {
     "data": {
      "text/plain": [
       "array([[[ 0.85613183, -0.14058243],\n",
       "        [ 0.59264386, -0.47958011],\n",
       "        [-0.97219332,  0.2475484 ]],\n",
       "\n",
       "       [[ 0.25540224,  0.52634623],\n",
       "        [-0.21352396,  0.67150136],\n",
       "        [ 0.35175324,  0.01635457]]])"
      ]
     },
     "execution_count": 48,
     "metadata": {},
     "output_type": "execute_result"
    }
   ],
   "source": [
    "np.subtract(a1,a2)"
   ]
  },
  {
   "cell_type": "code",
   "execution_count": 49,
   "id": "4113de26-5104-40f4-89cc-085c8902fbf7",
   "metadata": {},
   "outputs": [
    {
     "data": {
      "text/plain": [
       "array([[[1.53506678e+01, 5.70010436e-01],\n",
       "        [2.64210506e+00, 3.52761309e-01],\n",
       "        [1.12188272e-02, 2.52350566e+00]],\n",
       "\n",
       "       [[1.45606652e+00, 2.24305037e+00],\n",
       "        [7.34891427e-01, 3.88615115e+00],\n",
       "        [1.91909646e+00, 1.01820375e+00]]])"
      ]
     },
     "execution_count": 49,
     "metadata": {},
     "output_type": "execute_result"
    }
   ],
   "source": [
    "np.divide(a1,a2)"
   ]
  },
  {
   "cell_type": "markdown",
   "id": "eef55881-3297-4c4f-b9ea-0bf2b334d208",
   "metadata": {},
   "source": [
    "### statistic functions"
   ]
  },
  {
   "cell_type": "code",
   "execution_count": null,
   "id": "45d240d6-f2fe-497b-b29c-81ae09899afe",
   "metadata": {},
   "outputs": [],
   "source": [
    "sqrt = np.sqrt(25)\n",
    "abs = np.abs(-2)\n",
    "power = np.power(2,8)\n",
    "log = np.log(25)\n",
    "mins = np.min(a1)\n",
    "maxs = np.maz(a2)"
   ]
  },
  {
   "cell_type": "markdown",
   "id": "04d88fbd-bde7-4a6e-b422-c2f1b6f8a1d7",
   "metadata": {},
   "source": [
    "## Appending and inserting"
   ]
  },
  {
   "cell_type": "code",
   "execution_count": 54,
   "id": "69b1996b-d21d-49e4-8f50-a53cc381e60b",
   "metadata": {},
   "outputs": [
    {
     "data": {
      "text/plain": [
       "array([[[0., 0., 0.],\n",
       "        [0., 0., 0.]],\n",
       "\n",
       "       [[0., 0., 0.],\n",
       "        [0., 0., 0.]],\n",
       "\n",
       "       [[0., 0., 0.],\n",
       "        [0., 0., 0.]]])"
      ]
     },
     "execution_count": 54,
     "metadata": {},
     "output_type": "execute_result"
    }
   ],
   "source": [
    "zeroes = np.zeros((3,2,3))\n",
    "zeroes"
   ]
  },
  {
   "cell_type": "code",
   "execution_count": 55,
   "id": "1d2a53b3-60f1-41cf-b84b-43dff0e645cb",
   "metadata": {},
   "outputs": [
    {
     "data": {
      "text/plain": [
       "array([[[1., 1., 1.],\n",
       "        [1., 1., 1.]],\n",
       "\n",
       "       [[1., 1., 1.],\n",
       "        [1., 1., 1.]],\n",
       "\n",
       "       [[1., 1., 1.],\n",
       "        [1., 1., 1.]]])"
      ]
     },
     "execution_count": 55,
     "metadata": {},
     "output_type": "execute_result"
    }
   ],
   "source": [
    "new_array = np.ones((3,2,3))\n",
    "new_array"
   ]
  },
  {
   "cell_type": "markdown",
   "id": "a6872c9a-ba5b-411a-aec5-f46550002330",
   "metadata": {},
   "source": [
    "## append the ones into the zeoes"
   ]
  },
  {
   "cell_type": "code",
   "execution_count": 58,
   "id": "6900e64c-cfac-4179-ade5-14c804719f52",
   "metadata": {},
   "outputs": [
    {
     "data": {
      "text/plain": [
       "array([[[0., 0., 0.],\n",
       "        [0., 0., 0.]],\n",
       "\n",
       "       [[0., 0., 0.],\n",
       "        [0., 0., 0.]],\n",
       "\n",
       "       [[0., 0., 0.],\n",
       "        [0., 0., 0.]],\n",
       "\n",
       "       [[1., 1., 1.],\n",
       "        [1., 1., 1.]],\n",
       "\n",
       "       [[1., 1., 1.],\n",
       "        [1., 1., 1.]],\n",
       "\n",
       "       [[1., 1., 1.],\n",
       "        [1., 1., 1.]]])"
      ]
     },
     "execution_count": 58,
     "metadata": {},
     "output_type": "execute_result"
    }
   ],
   "source": [
    "appd = np.append(zeroes, new_array, axis=0) # axis = 0 means add it as rows. axis =1 means add it as columns\n",
    "appd"
   ]
  },
  {
   "cell_type": "markdown",
   "id": "dd9fd684-df81-441c-9523-4c3680673164",
   "metadata": {},
   "source": [
    "## Insert "
   ]
  },
  {
   "cell_type": "code",
   "execution_count": 59,
   "id": "3365ef9d-70be-4093-8c4f-53d60ad5e464",
   "metadata": {},
   "outputs": [
    {
     "data": {
      "text/plain": [
       "array([[[1., 1., 1.],\n",
       "        [1., 1., 1.]],\n",
       "\n",
       "       [[1., 1., 1.],\n",
       "        [1., 1., 1.]],\n",
       "\n",
       "       [[1., 1., 1.],\n",
       "        [1., 1., 1.]]])"
      ]
     },
     "execution_count": 59,
     "metadata": {},
     "output_type": "execute_result"
    }
   ],
   "source": [
    "new_array"
   ]
  },
  {
   "cell_type": "code",
   "execution_count": 60,
   "id": "cbd8c47c-4c94-49be-9e86-b96ba7a75fa8",
   "metadata": {},
   "outputs": [
    {
     "data": {
      "text/plain": [
       "array([[[0., 0., 0.],\n",
       "        [0., 0., 0.]],\n",
       "\n",
       "       [[0., 0., 0.],\n",
       "        [0., 0., 0.]],\n",
       "\n",
       "       [[0., 0., 0.],\n",
       "        [0., 0., 0.]]])"
      ]
     },
     "execution_count": 60,
     "metadata": {},
     "output_type": "execute_result"
    }
   ],
   "source": [
    "zeroes"
   ]
  },
  {
   "cell_type": "code",
   "execution_count": 61,
   "id": "bedc5328-07d8-4f71-bdd3-ef3805232a11",
   "metadata": {},
   "outputs": [
    {
     "data": {
      "text/plain": [
       "array([[[0., 0., 0.],\n",
       "        [0., 0., 0.]],\n",
       "\n",
       "       [[1., 1., 1.],\n",
       "        [1., 1., 1.]],\n",
       "\n",
       "       [[1., 1., 1.],\n",
       "        [1., 1., 1.]],\n",
       "\n",
       "       [[1., 1., 1.],\n",
       "        [1., 1., 1.]],\n",
       "\n",
       "       [[0., 0., 0.],\n",
       "        [0., 0., 0.]],\n",
       "\n",
       "       [[0., 0., 0.],\n",
       "        [0., 0., 0.]]])"
      ]
     },
     "execution_count": 61,
     "metadata": {},
     "output_type": "execute_result"
    }
   ],
   "source": [
    "inserted_array = np.insert(zeroes, 1, new_array, axis=0) # means insert the ones into the zeroes and place it as the 2nd row\n",
    "inserted_array"
   ]
  },
  {
   "cell_type": "markdown",
   "id": "a650e516-4e4a-4cef-8290-a81f19ba856c",
   "metadata": {},
   "source": [
    "## Delete"
   ]
  },
  {
   "cell_type": "code",
   "execution_count": 63,
   "id": "c3c21872-3b89-4922-955d-5c66a6ea0b77",
   "metadata": {},
   "outputs": [
    {
     "data": {
      "text/plain": [
       "array([[[0.35741112, 0.29642254, 0.96907154],\n",
       "        [0.41340355, 0.64353719, 0.93560123]],\n",
       "\n",
       "       [[0.37508815, 0.07028627, 0.41020245],\n",
       "        [0.00736519, 0.18672562, 0.31895036]],\n",
       "\n",
       "       [[0.51386229, 0.96888525, 0.92361583],\n",
       "        [0.14319047, 0.02514824, 0.66015801]]])"
      ]
     },
     "execution_count": 63,
     "metadata": {},
     "output_type": "execute_result"
    }
   ],
   "source": [
    "arr4 = np.random.rand(3,2,3)\n",
    "arr4"
   ]
  },
  {
   "cell_type": "code",
   "execution_count": 65,
   "id": "a03b655e-adcf-4cf2-8d55-7ae6608968f9",
   "metadata": {},
   "outputs": [],
   "source": [
    "arr5=np.delete(arr4,0, axis=1)"
   ]
  },
  {
   "cell_type": "code",
   "execution_count": 66,
   "id": "86729c60-1fae-4974-b987-a6644c2e3562",
   "metadata": {},
   "outputs": [
    {
     "data": {
      "text/plain": [
       "array([[[0.41340355, 0.64353719, 0.93560123]],\n",
       "\n",
       "       [[0.00736519, 0.18672562, 0.31895036]],\n",
       "\n",
       "       [[0.14319047, 0.02514824, 0.66015801]]])"
      ]
     },
     "execution_count": 66,
     "metadata": {},
     "output_type": "execute_result"
    }
   ],
   "source": [
    "arr5"
   ]
  },
  {
   "cell_type": "markdown",
   "id": "b13ab095-a530-47ec-a0b2-dea9ae41fafd",
   "metadata": {},
   "source": [
    "## save the array on fiel"
   ]
  },
  {
   "cell_type": "code",
   "execution_count": 67,
   "id": "c288bd61-16d6-440e-a65e-13648e9a1ac9",
   "metadata": {},
   "outputs": [],
   "source": [
    "np.save(\"saved_array\", arr5)"
   ]
  },
  {
   "cell_type": "markdown",
   "id": "4bbfccea-695b-46b8-bf8d-514da7223072",
   "metadata": {},
   "source": [
    "## load the saved array"
   ]
  },
  {
   "cell_type": "code",
   "execution_count": 68,
   "id": "09eddc15-bfaa-4a2b-882c-416b5de7d83f",
   "metadata": {},
   "outputs": [
    {
     "data": {
      "text/plain": [
       "array([[[0.41340355, 0.64353719, 0.93560123]],\n",
       "\n",
       "       [[0.00736519, 0.18672562, 0.31895036]],\n",
       "\n",
       "       [[0.14319047, 0.02514824, 0.66015801]]])"
      ]
     },
     "execution_count": 68,
     "metadata": {},
     "output_type": "execute_result"
    }
   ],
   "source": [
    "np.load(\"saved_array.npy\")"
   ]
  },
  {
   "cell_type": "code",
   "execution_count": null,
   "id": "49a697c2-400f-49be-8577-2f07bc67e9de",
   "metadata": {},
   "outputs": [],
   "source": []
  }
 ],
 "metadata": {
  "kernelspec": {
   "display_name": "Python 3 (ipykernel)",
   "language": "python",
   "name": "python3"
  },
  "language_info": {
   "codemirror_mode": {
    "name": "ipython",
    "version": 3
   },
   "file_extension": ".py",
   "mimetype": "text/x-python",
   "name": "python",
   "nbconvert_exporter": "python",
   "pygments_lexer": "ipython3",
   "version": "3.12.4"
  }
 },
 "nbformat": 4,
 "nbformat_minor": 5
}
